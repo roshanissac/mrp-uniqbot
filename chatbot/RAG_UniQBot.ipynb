{
 "cells": [
  {
   "cell_type": "code",
   "execution_count": 1,
   "metadata": {},
   "outputs": [],
   "source": [
    "from langchain.text_splitter import RecursiveCharacterTextSplitter\n",
    "from langchain.vectorstores import Chroma\n",
    "from langchain_openai import ChatOpenAI\n",
    "from langchain_openai import OpenAIEmbeddings\n",
    "from dotenv import load_dotenv\n",
    "from langchain_community.document_loaders import DataFrameLoader ,WebBaseLoader   \n",
    "import pandas as pd"
   ]
  },
  {
   "cell_type": "code",
   "execution_count": 2,
   "metadata": {},
   "outputs": [
    {
     "data": {
      "text/plain": [
       "True"
      ]
     },
     "execution_count": 2,
     "metadata": {},
     "output_type": "execute_result"
    }
   ],
   "source": [
    "#Loading environment variables from .env\n",
    "load_dotenv(override=True)"
   ]
  },
  {
   "cell_type": "markdown",
   "metadata": {},
   "source": [
    "##  Load data"
   ]
  },
  {
   "cell_type": "code",
   "execution_count": 3,
   "metadata": {},
   "outputs": [],
   "source": [
    "\n",
    "def load_data_from_urls(file_path):\n",
    "\n",
    "    # Step 1: Open the file\n",
    "    with open(file_path, 'r') as file:\n",
    "        # Step 2: Read the lines\n",
    "        lines = file.readlines()\n",
    "\n",
    "    # Step 3: Strip newline characters and store the values as a list\n",
    "    urls = [line.strip() for line in lines]\n",
    "\n",
    "    loader = WebBaseLoader(urls)\n",
    "    return loader.load()\n"
   ]
  },
  {
   "cell_type": "code",
   "execution_count": 4,
   "metadata": {},
   "outputs": [],
   "source": [
    "def load_data_from_dataframe(file_path):\n",
    "    df = pd.read_csv(file_path)\n",
    "    loader = DataFrameLoader(df, page_content_column=\"document\")\n",
    "    return loader.load()"
   ]
  },
  {
   "cell_type": "code",
   "execution_count": 62,
   "metadata": {},
   "outputs": [],
   "source": [
    "#docs=load_data_from_urls(\"web_urls.txt\")\n",
    "docs=load_data_from_dataframe(\"../Experiments/datasets/ingestion/preprocessed/combined_faqs_preprocessed.csv\")"
   ]
  },
  {
   "cell_type": "code",
   "execution_count": 63,
   "metadata": {},
   "outputs": [],
   "source": [
    "# split the docs into chunks using recursive character splitter\n",
    "def split_docs(documents,chunk_size=1500,chunk_overlap=200,type='csv'):\n",
    "  separators=None\n",
    "  if type==\"web\":\n",
    "    print(\"Type is Web...\")\n",
    "    separators=[\"\\n\\n\\n\",\"\\n\\n\",\"\\n\",\"(?<=\\.)\",\"\",\" \"]\n",
    "\n",
    "  text_splitter = RecursiveCharacterTextSplitter(chunk_size=chunk_size, chunk_overlap=chunk_overlap,separators=separators)\n",
    "  chunks = text_splitter.split_documents(documents)\n",
    "  return chunks\n",
    "\n",
    "# store the splitte documnets in docs variable\n",
    "chunks = split_docs(documents=docs,chunk_size=1500,chunk_overlap=200)"
   ]
  },
  {
   "cell_type": "code",
   "execution_count": 64,
   "metadata": {},
   "outputs": [
    {
     "name": "stdout",
     "output_type": "stream",
     "text": [
      "1010\n"
     ]
    }
   ],
   "source": [
    "print(len(chunks))"
   ]
  },
  {
   "cell_type": "markdown",
   "metadata": {},
   "source": [
    "## Creating Embeddings and Storing into ChromaDB"
   ]
  },
  {
   "cell_type": "code",
   "execution_count": 65,
   "metadata": {},
   "outputs": [],
   "source": [
    "embeddings_openai = OpenAIEmbeddings(model=\"text-embedding-3-large\")"
   ]
  },
  {
   "cell_type": "code",
   "execution_count": 66,
   "metadata": {},
   "outputs": [],
   "source": [
    "# using chromadb as a vectorstore and storing the docs in it\n",
    "\n",
    "db = Chroma.from_documents(collection_name=\"faqs\",documents=chunks, embedding=embeddings_openai,persist_directory=\"./chroma_db\")"
   ]
  },
  {
   "cell_type": "code",
   "execution_count": 81,
   "metadata": {},
   "outputs": [],
   "source": [
    "vectordb=Chroma(\n",
    "            collection_name=\"faqs\",\n",
    "            persist_directory=\"./chroma_db\",\n",
    "            embedding_function=embeddings_openai\n",
    "\n",
    "\n",
    "        )"
   ]
  },
  {
   "cell_type": "code",
   "execution_count": 82,
   "metadata": {},
   "outputs": [
    {
     "name": "stdout",
     "output_type": "stream",
     "text": [
      "What are the admission requirements?\n",
      "                        \n",
      "\n",
      "\n",
      "\n",
      "\n",
      "\n",
      "\n",
      "\n",
      "\n",
      "Students are admitted on the basis of academic achievement (grades) only. Additional non-academic requirements are not required for admission consideration. A minimum grade of 70% or higher is required in Grade 12 U English/Anglais (ENG4U/EAE4U preferred).\n",
      "\n",
      "\n",
      "Learn more about History (BA (Hons))\n",
      "\n",
      "\n",
      "\n",
      "\n",
      "\n",
      "\n",
      "\n",
      "\n",
      "\n",
      "\n",
      "\n",
      "\n",
      "\n",
      "                            How do I apply?\n",
      "                        \n",
      "\n",
      "\n",
      "\n",
      "\n",
      "\n",
      "\n",
      "\n",
      "\n",
      "All admissions to the History BA program are administered by Ryerson’s Admissions and Recruitment Office. \n",
      "\n",
      "\n",
      "\n",
      "\n",
      "\n",
      "\n",
      "\n",
      "\n",
      "\n",
      "\n",
      "\n",
      "                            How much does it cost to study at TMU?\n",
      "                        \n",
      "\n",
      "\n",
      "\n",
      "\n",
      "\n",
      "\n",
      "\n",
      "\n",
      "Current fees and financial information have been posted on the Office of the Registrar website.\n",
      "\n",
      "\n",
      "View fees by program\n",
      "\n",
      "\n",
      "\n",
      "\n",
      "\n",
      "\n",
      "\n",
      "\n",
      "\n",
      "\n",
      "\n",
      "\n",
      "\n",
      "                            How do I transfer to TMU from another university or college?\n",
      "                        \n",
      "\n",
      "\n",
      "\n",
      "\n",
      "\n",
      "\n",
      "\n",
      "\n",
      "For information on transferring to Ryerson, please talk to our Undergraduate Program Administrator.\n",
      "\n",
      "\n",
      "Learn more about transfer credits\n",
      "\n",
      "\n",
      "\n",
      "\n",
      "\n",
      "\n",
      "\n",
      "\n",
      "\n",
      "\n",
      "\n",
      "\n",
      "\n",
      "\n",
      "\n",
      "\n",
      "\n",
      "\n",
      "\n",
      "\n",
      "\n",
      "\n",
      "\n",
      "\n",
      "\n",
      "\n",
      "\n",
      "\n",
      "\n",
      "Contact us\n",
      "Undergraduate Program Administrator Anne-Marie Dawes Telephone: 416-979-5000 Ext. 552691   |   JOR 501 Email: historypa@torontomu.ca\n",
      "Undergraduate Program Director Jennifer Hubbard, PhD Telephone: 416-979-5000 Ext. 557728  |   JOR 517 Email: jhubbard@torontomu.ca\n",
      "\n",
      "\n",
      "More contacts\n"
     ]
    }
   ],
   "source": [
    "results = vectordb.similarity_search(\"Admission requirements for MA History Program?\", k=2)\n",
    "print(results[0].page_content)"
   ]
  },
  {
   "cell_type": "markdown",
   "metadata": {},
   "source": [
    "## Loading LLM"
   ]
  },
  {
   "cell_type": "code",
   "execution_count": 68,
   "metadata": {},
   "outputs": [],
   "source": [
    "#Initializing OpenAI API\n",
    "llm = ChatOpenAI( model=\"gpt-4o-mini\",\n",
    "    temperature=.1,\n",
    "    max_tokens=500,\n",
    "    verbose=True,\n",
    "    model_kwargs={\"top_p\":0.5}\n",
    "    \n",
    "    )"
   ]
  },
  {
   "cell_type": "markdown",
   "metadata": {},
   "source": [
    "## RAG Chain"
   ]
  },
  {
   "cell_type": "code",
   "execution_count": 69,
   "metadata": {},
   "outputs": [],
   "source": [
    "template = \"\"\"SYSTEM:You are an intelligent assistant helping Toronto Metropolitan University Website visitors on their frequently asked questions in English.\n",
    "\n",
    "Question: {question}\n",
    "\n",
    "Strictly Use ONLY the following pieces of context to answer the question at the end. Think step-by-step and then answer.\n",
    "\n",
    "Do not try to make up an answer:\n",
    "-if the answer to the question cannot be determined from the context alone or if the context is empty,\n",
    "say \"I cannot determine the answer to that\"\n",
    "-Use numbered lists when possible\n",
    "\n",
    "Always finish with a new line that says \"\\nYours Truly - UniQBot 1.0\"\n",
    "=============\n",
    "{context}\n",
    "=============\n",
    "\n",
    "Question: {question}\n",
    "\n",
    "Helpful Answer:\"\"\""
   ]
  },
  {
   "cell_type": "code",
   "execution_count": 70,
   "metadata": {},
   "outputs": [],
   "source": [
    "from langchain.prompts import PromptTemplate\n",
    "\n",
    "prompt = PromptTemplate(\n",
    "            template=template,\n",
    "            input_variables=[\"context\", \"question\"],\n",
    "        )"
   ]
  },
  {
   "cell_type": "code",
   "execution_count": 71,
   "metadata": {},
   "outputs": [],
   "source": [
    "from langchain.chains import RetrievalQA\n",
    "from langchain.prompts import PromptTemplate\n",
    "\n",
    "from langchain.memory import ConversationBufferWindowMemory\n",
    "from langchain.chains import ConversationalRetrievalChain\n",
    "\n",
    "memory = ConversationBufferWindowMemory(\n",
    "    k=3,\n",
    "    memory_key=\"chat_history\",\n",
    "    return_messages=True,\n",
    "    output_key='answer'\n",
    ")"
   ]
  },
  {
   "cell_type": "code",
   "execution_count": 83,
   "metadata": {},
   "outputs": [],
   "source": [
    "#retriever = db.as_retriever(search_kwargs={\"k\": 3,\"score_threshold\":.10}, search_type=\"similarity_score_threshold\")\n",
    "retriever = db.as_retriever(search_kwargs={\"k\": 3}, search_type=\"similarity\")\n"
   ]
  },
  {
   "cell_type": "code",
   "execution_count": 73,
   "metadata": {},
   "outputs": [],
   "source": [
    "qa = ConversationalRetrievalChain.from_llm(\n",
    "    llm=llm,\n",
    "    retriever=retriever,\n",
    "    memory=memory,\n",
    "    return_source_documents=True,\n",
    "    return_generated_question = True,\n",
    "    verbose=False,\n",
    "    chain_type=\"stuff\",\n",
    "    combine_docs_chain_kwargs={'prompt': prompt},\n",
    ")"
   ]
  },
  {
   "cell_type": "code",
   "execution_count": 74,
   "metadata": {},
   "outputs": [],
   "source": [
    "def ask(question):\n",
    "\n",
    "    phrases_to_check = [\"i cannot determine the answer to that\", \"i do not know the answer to that\", \"i can help you with a variety of tasks\", \"i am uniq-bot 1.0\"]\n",
    "\n",
    "    result = qa({\"question\": question})\n",
    "\n",
    "    # output=result[\"answer\"].strip()\n",
    "    # # clean_output=cleanhtml(output)\n",
    "    print(result[\"answer\"])\n",
    "\n",
    "    if any(phrase in result[\"answer\"].lower() for phrase in phrases_to_check):\n",
    "        print('\\nPlease ask a relevant question to UniQ-Bot.')\n",
    "    else:\n",
    "        print(\"\\nView this link for more information: \",result[\"source_documents\"][0].metadata['question_url'])\n",
    "\n"
   ]
  },
  {
   "cell_type": "code",
   "execution_count": 76,
   "metadata": {},
   "outputs": [
    {
     "name": "stdout",
     "output_type": "stream",
     "text": [
      "I cannot determine the answer to that.\n",
      "\n",
      "Yours Truly - UniQBot 1.0\n",
      "\n",
      "Please ask a relevant question to UniQ-Bot.\n"
     ]
    }
   ],
   "source": [
    "ask(\"What are the admission requirements for BA History?\")"
   ]
  },
  {
   "cell_type": "code",
   "execution_count": 77,
   "metadata": {},
   "outputs": [
    {
     "name": "stdout",
     "output_type": "stream",
     "text": [
      "1. Yes, there are scholarships available for graduate students, including those in master's programs.\n",
      "2. For more details on the specific scholarships and awards opportunities, you should visit the Graduate Studies Scholarships and Awards page.\n",
      "\n",
      "Yours Truly - UniQBot 1.0\n",
      "\n",
      "View this link for more information:  https://www.torontomu.ca/tedrogersschool/master-science-management/admissions/faqs/#accordion-content-1571336414548-are-there-any-scholarships-available-for-the-programs-\n"
     ]
    }
   ],
   "source": [
    "ask(\"Is there any scholarships available for the masters program?\")"
   ]
  },
  {
   "cell_type": "code",
   "execution_count": 78,
   "metadata": {},
   "outputs": [
    {
     "name": "stdout",
     "output_type": "stream",
     "text": [
      "The admission requirements for the Masters in Nursing program at Toronto Metropolitan University are as follows:\n",
      "\n",
      "1. An overall B standing in your undergraduate degree is the minimum required for admission.\n",
      "2. Specific admissions requirements may vary depending on the program stream:\n",
      "   - MN Course Stream Program Requirements\n",
      "   - MN Thesis Stream Program Requirements\n",
      "   - Combined MN/PHCNP Certificate Program Requirements\n",
      "   - PHCNP Certificate Program Requirements\n",
      "\n",
      "Please note that admission to all programs is competitive, and meeting the minimum requirements does not guarantee acceptance.\n",
      "\n",
      "Yours Truly - UniQBot 1.0\n"
     ]
    },
    {
     "ename": "KeyError",
     "evalue": "'question_url'",
     "output_type": "error",
     "traceback": [
      "\u001b[1;31m---------------------------------------------------------------------------\u001b[0m",
      "\u001b[1;31mKeyError\u001b[0m                                  Traceback (most recent call last)",
      "Cell \u001b[1;32mIn[78], line 1\u001b[0m\n\u001b[1;32m----> 1\u001b[0m \u001b[43mask\u001b[49m\u001b[43m(\u001b[49m\u001b[38;5;124;43m\"\u001b[39;49m\u001b[38;5;124;43mWhat are the admission requirements for Masters in Nursing program?\u001b[39;49m\u001b[38;5;124;43m\"\u001b[39;49m\u001b[43m)\u001b[49m\n",
      "Cell \u001b[1;32mIn[74], line 14\u001b[0m, in \u001b[0;36mask\u001b[1;34m(question)\u001b[0m\n\u001b[0;32m     12\u001b[0m     \u001b[38;5;28mprint\u001b[39m(\u001b[38;5;124m'\u001b[39m\u001b[38;5;130;01m\\n\u001b[39;00m\u001b[38;5;124mPlease ask a relevant question to UniQ-Bot.\u001b[39m\u001b[38;5;124m'\u001b[39m)\n\u001b[0;32m     13\u001b[0m \u001b[38;5;28;01melse\u001b[39;00m:\n\u001b[1;32m---> 14\u001b[0m     \u001b[38;5;28mprint\u001b[39m(\u001b[38;5;124m\"\u001b[39m\u001b[38;5;130;01m\\n\u001b[39;00m\u001b[38;5;124mView this link for more information: \u001b[39m\u001b[38;5;124m\"\u001b[39m,\u001b[43mresult\u001b[49m\u001b[43m[\u001b[49m\u001b[38;5;124;43m\"\u001b[39;49m\u001b[38;5;124;43msource_documents\u001b[39;49m\u001b[38;5;124;43m\"\u001b[39;49m\u001b[43m]\u001b[49m\u001b[43m[\u001b[49m\u001b[38;5;241;43m0\u001b[39;49m\u001b[43m]\u001b[49m\u001b[38;5;241;43m.\u001b[39;49m\u001b[43mmetadata\u001b[49m\u001b[43m[\u001b[49m\u001b[38;5;124;43m'\u001b[39;49m\u001b[38;5;124;43mquestion_url\u001b[39;49m\u001b[38;5;124;43m'\u001b[39;49m\u001b[43m]\u001b[49m)\n",
      "\u001b[1;31mKeyError\u001b[0m: 'question_url'"
     ]
    }
   ],
   "source": [
    "ask(\"What are the admission requirements for Masters in Nursing program?\")"
   ]
  },
  {
   "cell_type": "code",
   "execution_count": 79,
   "metadata": {},
   "outputs": [
    {
     "name": "stdout",
     "output_type": "stream",
     "text": [
      "1. Yes, there is a placement facility for the nursing program.\n",
      "2. The Post Diploma Degree Nursing Program offers opportunities for placements in specialty areas such as critical care, intensive care, emergency, labour and delivery, or pediatrics.\n",
      "3. However, these specialty placements are limited in number and follow a competitive process set by the placement agency.\n",
      "4. Nursing practice placements may also involve working with diverse populations who experience various barriers.\n",
      "\n",
      "Yours Truly - UniQBot 1.0\n",
      "\n",
      "View this link for more information:  https://www.torontomu.ca/nursing/central-placement-office/faqs/post-diploma-program-placement-frequently-asked-questions/#accordion-content-1620292826842-will-i-be-able-to-request-a-placement-in-an-area-of-speciality-\n"
     ]
    }
   ],
   "source": [
    "ask(\"is there any placements facility for nursing program?\")"
   ]
  },
  {
   "cell_type": "code",
   "execution_count": 80,
   "metadata": {},
   "outputs": [
    {
     "name": "stdout",
     "output_type": "stream",
     "text": [
      "To obtain tickets for the graduation ceremony, follow these steps:\n",
      "\n",
      "1. **Register for your convocation ceremony**: You must request tickets during the registration process.\n",
      "2. **Receive guest tickets**: Each graduate will receive guest tickets, each with a unique barcode. The number of guest tickets will be either 3 or 4, depending on how many graduates are in the ceremony.\n",
      "3. **Distribute tickets**: You can either send the tickets directly to your guests via email or download and distribute them manually.\n",
      "4. **Ensure unique tickets**: Each ticket can only be scanned once, so make sure each of your guests has a unique ticket (either on a mobile device or a printed copy) for entry into the Convocation Arena.\n",
      "5. **Note on extra tickets**: Extra tickets for seating are not available for any convocation ceremony.\n",
      "\n",
      "Yours Truly - UniQBot 1.0\n",
      "\n",
      "View this link for more information:  https://www.torontomu.ca/convocation/faq/\n"
     ]
    }
   ],
   "source": [
    "ask(\"How do I get graduation ceremony tickets?\")"
   ]
  },
  {
   "cell_type": "code",
   "execution_count": 51,
   "metadata": {},
   "outputs": [
    {
     "name": "stdout",
     "output_type": "stream",
     "text": [
      "1. Anyone older than five years will need their own ticket.\n",
      "2. Younger children can attend without a ticket but must sit in a guest's lap.\n",
      "3. It is recommended that guests with young children sit near exits in case they need to step outside during the ceremony.\n",
      "\n",
      "Yours Truly - UniQBot 1.0\n",
      "\n",
      "View this link for more information:  https://www.torontomu.ca/convocation/faq/\n"
     ]
    }
   ],
   "source": [
    "ask(\"Do children need tickets to attend the ceremony?\")"
   ]
  },
  {
   "cell_type": "code",
   "execution_count": 117,
   "metadata": {},
   "outputs": [
    {
     "name": "stdout",
     "output_type": "stream",
     "text": [
      "The graduation ceremonies take place at two different times:\n",
      "\n",
      "1. 9:30 a.m. (arrive by 8:00 a.m.)\n",
      "2. 3:30 p.m. (arrive by 2:00 p.m.)\n"
     ]
    }
   ],
   "source": [
    "ask(\"What time graduation ceremony takes place?\")"
   ]
  },
  {
   "cell_type": "code",
   "execution_count": 119,
   "metadata": {},
   "outputs": [
    {
     "name": "stdout",
     "output_type": "stream",
     "text": [
      "Only PhD graduates wear mortarboards/hats as part of their regalia.\n"
     ]
    }
   ],
   "source": [
    "ask(\"can we wear hats?\")"
   ]
  }
 ],
 "metadata": {
  "kernelspec": {
   "display_name": "mrp",
   "language": "python",
   "name": "python3"
  },
  "language_info": {
   "codemirror_mode": {
    "name": "ipython",
    "version": 3
   },
   "file_extension": ".py",
   "mimetype": "text/x-python",
   "name": "python",
   "nbconvert_exporter": "python",
   "pygments_lexer": "ipython3",
   "version": "3.10.14"
  }
 },
 "nbformat": 4,
 "nbformat_minor": 2
}
