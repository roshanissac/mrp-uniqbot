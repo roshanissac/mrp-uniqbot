{
 "cells": [
  {
   "cell_type": "code",
   "execution_count": 131,
   "metadata": {},
   "outputs": [],
   "source": [
    "from langchain.text_splitter import RecursiveCharacterTextSplitter\n",
    "from langchain.vectorstores import Chroma\n",
    "from langchain_openai import ChatOpenAI\n",
    "from langchain_openai import OpenAIEmbeddings\n",
    "from dotenv import load_dotenv\n",
    "from langchain_community.document_loaders import DataFrameLoader ,WebBaseLoader   \n",
    "import pandas as pd"
   ]
  },
  {
   "cell_type": "code",
   "execution_count": 18,
   "metadata": {},
   "outputs": [
    {
     "data": {
      "text/plain": [
       "True"
      ]
     },
     "execution_count": 18,
     "metadata": {},
     "output_type": "execute_result"
    }
   ],
   "source": [
    "#Loading environment variables from .env\n",
    "load_dotenv()"
   ]
  },
  {
   "cell_type": "markdown",
   "metadata": {},
   "source": [
    "##  Load data"
   ]
  },
  {
   "cell_type": "code",
   "execution_count": 4,
   "metadata": {},
   "outputs": [],
   "source": [
    "\n",
    "def load_data_from_urls(file_path):\n",
    "\n",
    "    # Step 1: Open the file\n",
    "    with open(file_path, 'r') as file:\n",
    "        # Step 2: Read the lines\n",
    "        lines = file.readlines()\n",
    "\n",
    "    # Step 3: Strip newline characters and store the values as a list\n",
    "    urls = [line.strip() for line in lines]\n",
    "\n",
    "    loader = WebBaseLoader(urls)\n",
    "    return loader.load()\n"
   ]
  },
  {
   "cell_type": "code",
   "execution_count": 126,
   "metadata": {},
   "outputs": [],
   "source": [
    "def load_data_from_dataframe(file_path):\n",
    "    df = pd.read_csv(file_path)\n",
    "    loader = DataFrameLoader(df, page_content_column=\"document\")\n",
    "    return loader.load()"
   ]
  },
  {
   "cell_type": "code",
   "execution_count": 127,
   "metadata": {},
   "outputs": [],
   "source": [
    "#docs=load_data_from_urls(\"web_urls.txt\")\n",
    "docs=load_data_from_dataframe(\"../RnD/datasets/ingestion/preprocessed/combined_faqs_preprocessed.csv\")"
   ]
  },
  {
   "cell_type": "code",
   "execution_count": 129,
   "metadata": {},
   "outputs": [],
   "source": [
    "# split the docs into chunks using recursive character splitter\n",
    "def split_docs(documents,chunk_size=1500,chunk_overlap=200,type='csv'):\n",
    "  separators=None\n",
    "  if type==\"web\":\n",
    "    print(\"Type is Web...\")\n",
    "    separators=[\"\\n\\n\\n\",\"\\n\\n\",\"\\n\",\"(?<=\\.)\",\"\",\" \"]\n",
    "\n",
    "  text_splitter = RecursiveCharacterTextSplitter(chunk_size=chunk_size, chunk_overlap=chunk_overlap,separators=separators)\n",
    "  chunks = text_splitter.split_documents(documents)\n",
    "  return chunks\n",
    "\n",
    "# store the splitte documnets in docs variable\n",
    "chunks = split_docs(documents=docs,chunk_size=1500,chunk_overlap=200)"
   ]
  },
  {
   "cell_type": "code",
   "execution_count": 130,
   "metadata": {},
   "outputs": [
    {
     "name": "stdout",
     "output_type": "stream",
     "text": [
      "1010\n"
     ]
    }
   ],
   "source": [
    "print(len(chunks))"
   ]
  },
  {
   "cell_type": "markdown",
   "metadata": {},
   "source": [
    "## Creating Embeddings and Storing into ChromaDB"
   ]
  },
  {
   "cell_type": "code",
   "execution_count": 104,
   "metadata": {},
   "outputs": [],
   "source": [
    "embeddings_openai = OpenAIEmbeddings(model=\"text-embedding-3-large\")"
   ]
  },
  {
   "cell_type": "code",
   "execution_count": 105,
   "metadata": {},
   "outputs": [],
   "source": [
    "# using chromadb as a vectorstore and storing the docs in it\n",
    "\n",
    "db = Chroma.from_documents(collection_name=\"faqs\",documents=chunks, embedding=embeddings_openai,persist_directory=\"./chroma_db\")"
   ]
  },
  {
   "cell_type": "code",
   "execution_count": 106,
   "metadata": {},
   "outputs": [
    {
     "name": "stdout",
     "output_type": "stream",
     "text": [
      "What are the admission requirements?\n",
      "                        \n",
      "\n",
      "\n",
      "\n",
      "\n",
      "\n",
      "\n",
      "\n",
      "\n",
      "Students are admitted on the basis of academic achievement (grades) only. Additional non-academic requirements are not required for admission consideration. A minimum grade of 70% or higher is required in Grade 12 U English/Anglais (ENG4U/EAE4U preferred).\n",
      "\n",
      "\n",
      "Learn more about History (BA (Hons))\n",
      "\n",
      "\n",
      "\n",
      "\n",
      "\n",
      "\n",
      "\n",
      "\n",
      "\n",
      "\n",
      "\n",
      "\n",
      "\n",
      "                            How do I apply?\n",
      "                        \n",
      "\n",
      "\n",
      "\n",
      "\n",
      "\n",
      "\n",
      "\n",
      "\n",
      "All admissions to the History BA program are administered by Ryerson’s Admissions and Recruitment Office. \n",
      "\n",
      "\n",
      "\n",
      "\n",
      "\n",
      "\n",
      "\n",
      "\n",
      "\n",
      "\n",
      "\n",
      "                            How much does it cost to study at TMU?\n",
      "                        \n",
      "\n",
      "\n",
      "\n",
      "\n",
      "\n",
      "\n",
      "\n",
      "\n",
      "Current fees and financial information have been posted on the Office of the Registrar website.\n",
      "\n",
      "\n",
      "View fees by program\n",
      "\n",
      "\n",
      "\n",
      "\n",
      "\n",
      "\n",
      "\n",
      "\n",
      "\n",
      "\n",
      "\n",
      "\n",
      "\n",
      "                            How do I transfer to TMU from another university or college?\n",
      "                        \n",
      "\n",
      "\n",
      "\n",
      "\n",
      "\n",
      "\n",
      "\n",
      "\n",
      "For information on transferring to Ryerson, please talk to our Undergraduate Program Administrator.\n",
      "\n",
      "\n",
      "Learn more about transfer credits\n",
      "\n",
      "\n",
      "\n",
      "\n",
      "\n",
      "\n",
      "\n",
      "\n",
      "\n",
      "\n",
      "\n",
      "\n",
      "\n",
      "\n",
      "\n",
      "\n",
      "\n",
      "\n",
      "\n",
      "\n",
      "\n",
      "\n",
      "\n",
      "\n",
      "\n",
      "\n",
      "\n",
      "\n",
      "\n",
      "Contact us\n",
      "Undergraduate Program Administrator Anne-Marie Dawes Telephone: 416-979-5000 Ext. 552691   |   JOR 501 Email: historypa@torontomu.ca\n",
      "Undergraduate Program Director Jennifer Hubbard, PhD Telephone: 416-979-5000 Ext. 557728  |   JOR 517 Email: jhubbard@torontomu.ca\n",
      "\n",
      "\n",
      "More contacts\n"
     ]
    }
   ],
   "source": [
    "results = db.similarity_search(\"Admission requirements for MA History Program?\", k=2)\n",
    "print(results[0].page_content)"
   ]
  },
  {
   "cell_type": "markdown",
   "metadata": {},
   "source": [
    "## Loading LLM"
   ]
  },
  {
   "cell_type": "code",
   "execution_count": 132,
   "metadata": {},
   "outputs": [],
   "source": [
    "#Initializing OpenAI API\n",
    "llm = ChatOpenAI( model=\"gpt-4o-mini\",\n",
    "    temperature=.1,\n",
    "    max_tokens=500,\n",
    "    verbose=True,\n",
    "    model_kwargs={\"top_p\":0.5}\n",
    "    \n",
    "    )"
   ]
  },
  {
   "cell_type": "markdown",
   "metadata": {},
   "source": [
    "## RAG Chain"
   ]
  },
  {
   "cell_type": "code",
   "execution_count": 108,
   "metadata": {},
   "outputs": [],
   "source": [
    "template = \"\"\"SYSTEM:You are an intelligent assistant helping Toronto Metropolitan University Website visitors on their frequently asked questions in English.\n",
    "\n",
    "Strictly Use ONLY the following pieces of context to answer the question at the end. Think step-by-step and then answer.\n",
    "\n",
    "Do not try to make up an answer:\n",
    "-if the answer to the question cannot be determined from the context alone or if the context is empty,\n",
    "only say \"I cannot determine the answer to that\"\n",
    "-Use numbered lists when possible\n",
    "\n",
    "Context:\n",
    "=============\n",
    "{context}\n",
    "=============\n",
    "\n",
    "Question: {question}\n",
    "\n",
    "Helpful Answer:\"\"\""
   ]
  },
  {
   "cell_type": "code",
   "execution_count": 109,
   "metadata": {},
   "outputs": [],
   "source": [
    "from langchain.prompts import PromptTemplate\n",
    "\n",
    "prompt = PromptTemplate(\n",
    "            template=template,\n",
    "            input_variables=[\"context\", \"question\"],\n",
    "        )"
   ]
  },
  {
   "cell_type": "code",
   "execution_count": 110,
   "metadata": {},
   "outputs": [],
   "source": [
    "from langchain.chains import RetrievalQA\n",
    "from langchain.prompts import PromptTemplate\n",
    "\n",
    "from langchain.memory import ConversationBufferWindowMemory\n",
    "from langchain.chains import ConversationalRetrievalChain\n",
    "\n",
    "memory = ConversationBufferWindowMemory(\n",
    "    k=3,\n",
    "    memory_key=\"chat_history\",\n",
    "    return_messages=True,\n",
    "    output_key='answer'\n",
    ")"
   ]
  },
  {
   "cell_type": "code",
   "execution_count": 111,
   "metadata": {},
   "outputs": [],
   "source": [
    "#retriever = db.as_retriever(search_kwargs={\"k\": 3,\"score_threshold\":.10}, search_type=\"similarity_score_threshold\")\n",
    "retriever = db.as_retriever(search_kwargs={\"k\": 3}, search_type=\"similarity\")\n"
   ]
  },
  {
   "cell_type": "code",
   "execution_count": 112,
   "metadata": {},
   "outputs": [],
   "source": [
    "qa = ConversationalRetrievalChain.from_llm(\n",
    "    llm=llm,\n",
    "    retriever=retriever,\n",
    "    memory=memory,\n",
    "    return_source_documents=True,\n",
    "    return_generated_question = True,\n",
    "    verbose=False,\n",
    "    chain_type=\"stuff\",\n",
    "    combine_docs_chain_kwargs={'prompt': prompt},\n",
    ")"
   ]
  },
  {
   "cell_type": "code",
   "execution_count": 113,
   "metadata": {},
   "outputs": [],
   "source": [
    "def ask(question):\n",
    "\n",
    "    phrases_to_check = [\"i cannot determine the answer to that\", \"i do not know the answer to that\", \"i can help you with a variety of tasks\", \"i am uniq-bot 1.0\"]\n",
    "\n",
    "    result = qa({\"question\": question})\n",
    "\n",
    "    # output=result[\"answer\"].strip()\n",
    "    # # clean_output=cleanhtml(output)\n",
    "    print(result[\"answer\"])\n",
    "\n",
    "    # if any(phrase in result[\"answer\"].lower() for phrase in phrases_to_check):\n",
    "    #     print('\\nPlease ask a relevant question to UniQ-Bot.')\n",
    "    # else:\n",
    "    #     print(\"\\nView this link for more information: \",result[\"source_documents\"][0].metadata['question_url'])\n",
    "\n"
   ]
  },
  {
   "cell_type": "code",
   "execution_count": 124,
   "metadata": {},
   "outputs": [
    {
     "name": "stdout",
     "output_type": "stream",
     "text": [
      "I cannot determine the answer to that.\n"
     ]
    }
   ],
   "source": [
    "ask(\"What are the admission requirements for BA History?\")"
   ]
  },
  {
   "cell_type": "code",
   "execution_count": 115,
   "metadata": {},
   "outputs": [
    {
     "name": "stdout",
     "output_type": "stream",
     "text": [
      "Yes, there are scholarships available for the master's program. For details on scholarships and awards opportunities available to graduate students, please visit the Graduate Studies Scholarships and Awards page.\n"
     ]
    }
   ],
   "source": [
    "ask(\"Is there any scholarships available for the masters program?\")"
   ]
  },
  {
   "cell_type": "code",
   "execution_count": 116,
   "metadata": {},
   "outputs": [
    {
     "name": "stdout",
     "output_type": "stream",
     "text": [
      "The admission requirements for the Masters in Nursing (MN) program at Toronto Metropolitan University vary depending on the specific stream. Here are the different streams and their respective requirements:\n",
      "\n",
      "1. MN Course Stream Program Requirements\n",
      "2. MN Thesis Stream Program Requirements\n",
      "3. Combined MN/PHCNP Certificate Program Requirements\n",
      "4. PHCNP Certificate Program Requirements\n",
      "\n",
      "Please note that admission to all programs is competitive, and meeting the minimum requirements does not guarantee acceptance.\n"
     ]
    }
   ],
   "source": [
    "ask(\"What are the admission requirements for Masters in Nursing program?\")"
   ]
  },
  {
   "cell_type": "code",
   "execution_count": 125,
   "metadata": {},
   "outputs": [
    {
     "name": "stdout",
     "output_type": "stream",
     "text": [
      "Yes, there are placement facilities for the nursing program. Here are the key points:\n",
      "\n",
      "1. The Post Diploma Degree Nursing Program includes placements to ensure students meet entry-to-practice competencies prior to graduation.\n",
      "2. Students may have the opportunity to complete placements in specialty areas such as critical care, intensive care, emergency, labour and delivery, or pediatrics. However, these placements are limited and follow a competitive process set by the placement agency.\n",
      "3. The placement site will assign a preceptor to the student, and students cannot find their own preceptor.\n"
     ]
    }
   ],
   "source": [
    "ask(\"is there any placements facility for nursing program?\")"
   ]
  },
  {
   "cell_type": "code",
   "execution_count": 122,
   "metadata": {},
   "outputs": [
    {
     "name": "stdout",
     "output_type": "stream",
     "text": [
      "To obtain graduation ceremony tickets, you must request them when you register for your convocation ceremony. Here are the steps:\n",
      "\n",
      "1. Request tickets during your convocation ceremony registration.\n",
      "2. Each graduate will receive 3 or 4 guest tickets, each with a unique barcode.\n",
      "3. Tickets can be sent directly to guests via email or downloaded and distributed manually.\n",
      "4. Ensure each guest has a unique ticket (either on a mobile device or a printed copy) for entry into the Convocation Arena.\n",
      "\n",
      "Note: Extra tickets for seating are not available for any convocation ceremony.\n"
     ]
    }
   ],
   "source": [
    "ask(\"How do I get graduation ceremony tickets?\")"
   ]
  },
  {
   "cell_type": "code",
   "execution_count": 118,
   "metadata": {},
   "outputs": [
    {
     "name": "stdout",
     "output_type": "stream",
     "text": [
      "1. Anyone older than five years will need their own ticket.\n",
      "2. Younger children can attend without a ticket but must sit in a guest's lap.\n"
     ]
    }
   ],
   "source": [
    "ask(\"Do children need tickets to attend the ceremony?\")"
   ]
  },
  {
   "cell_type": "code",
   "execution_count": 117,
   "metadata": {},
   "outputs": [
    {
     "name": "stdout",
     "output_type": "stream",
     "text": [
      "The graduation ceremonies take place at two different times:\n",
      "\n",
      "1. 9:30 a.m. (arrive by 8:00 a.m.)\n",
      "2. 3:30 p.m. (arrive by 2:00 p.m.)\n"
     ]
    }
   ],
   "source": [
    "ask(\"What time graduation ceremony takes place?\")"
   ]
  },
  {
   "cell_type": "code",
   "execution_count": 119,
   "metadata": {},
   "outputs": [
    {
     "name": "stdout",
     "output_type": "stream",
     "text": [
      "Only PhD graduates wear mortarboards/hats as part of their regalia.\n"
     ]
    }
   ],
   "source": [
    "ask(\"can we wear hats?\")"
   ]
  }
 ],
 "metadata": {
  "kernelspec": {
   "display_name": "mrp",
   "language": "python",
   "name": "python3"
  },
  "language_info": {
   "codemirror_mode": {
    "name": "ipython",
    "version": 3
   },
   "file_extension": ".py",
   "mimetype": "text/x-python",
   "name": "python",
   "nbconvert_exporter": "python",
   "pygments_lexer": "ipython3",
   "version": "3.10.14"
  }
 },
 "nbformat": 4,
 "nbformat_minor": 2
}
